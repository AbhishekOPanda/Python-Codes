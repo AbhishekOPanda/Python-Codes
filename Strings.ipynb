{
 "cells": [
  {
   "cell_type": "code",
   "execution_count": 1,
   "id": "2f204e84",
   "metadata": {},
   "outputs": [],
   "source": [
    "from cs515 import map, reduce"
   ]
  },
  {
   "cell_type": "code",
   "execution_count": 39,
   "id": "67fdf292",
   "metadata": {},
   "outputs": [],
   "source": [
    "def dot(L,K):\n",
    "    def helper1_dot(L):\n",
    "        if not L:\n",
    "            return 0\n",
    "        return 1 + helper1_dot(L[1:])\n",
    "    if helper1_dot(K)==helper1_dot(L) and helper1_dot(K)!=0:\n",
    "        return reduce(lambda z1, z2: z1+z2, map(lambda x: reduce(lambda x1, x2: x1*x2, x), zip(K, L)))\n",
    "    elif helper1_dot(K)!=helper1_dot(L):\n",
    "        return float('-inf')\n",
    "    else:\n",
    "        return 0.0"
   ]
  },
  {
   "cell_type": "code",
   "execution_count": 40,
   "id": "fb7ac4ca",
   "metadata": {},
   "outputs": [
    {
     "data": {
      "text/plain": [
       "42"
      ]
     },
     "execution_count": 40,
     "metadata": {},
     "output_type": "execute_result"
    }
   ],
   "source": [
    "dot([5,3], [6,4]) "
   ]
  },
  {
   "cell_type": "code",
   "execution_count": 78,
   "id": "323dc63b",
   "metadata": {},
   "outputs": [],
   "source": [
    "def explode(S):\n",
    "    #if S[0]:\n",
    "   #     return \"\\'\"+ S[0:] + \"\\'\"\n",
    "  #  return \"\\'\"+ explode(S[1:]) + \"\\'\"\n",
    "    return map(lambda x:x, S)"
   ]
  },
  {
   "cell_type": "code",
   "execution_count": 79,
   "id": "ed670b73",
   "metadata": {},
   "outputs": [
    {
     "data": {
      "text/plain": [
       "['s', 'p', 'a', 'm']"
      ]
     },
     "execution_count": 79,
     "metadata": {},
     "output_type": "execute_result"
    }
   ],
   "source": [
    "explode('spam')\n"
   ]
  },
  {
   "cell_type": "code",
   "execution_count": 41,
   "id": "a2496012",
   "metadata": {},
   "outputs": [],
   "source": [
    "def index(e,L):\n",
    "    if not L:\n",
    "        return 0\n",
    "    elif L[0] == e:\n",
    "        return 0\n",
    "    return 1 + index(e, L[1:])"
   ]
  },
  {
   "cell_type": "code",
   "execution_count": 50,
   "id": "305c50ca",
   "metadata": {},
   "outputs": [
    {
     "data": {
      "text/plain": [
       "1"
      ]
     },
     "execution_count": 50,
     "metadata": {},
     "output_type": "execute_result"
    }
   ],
   "source": [
    "index('hi', [ 'well', 'hi', 'there' ])\n"
   ]
  },
  {
   "cell_type": "code",
   "execution_count": 64,
   "id": "c7e9d152",
   "metadata": {},
   "outputs": [],
   "source": [
    "def deepReverse(L):\n",
    "    def helper_dr(L, res):\n",
    "        if L == []:\n",
    "            return res\n",
    "        if isinstance(L[-1], list):\n",
    "            return helper_dr(L[:-1], res + [deepReverse(L[-1])])\n",
    "        else:\n",
    "            return helper_dr(L[:-1], res + [L[-1]])\n",
    "    return helper_dr(L, [])"
   ]
  },
  {
   "cell_type": "code",
   "execution_count": 65,
   "id": "d157a5f2",
   "metadata": {},
   "outputs": [
    {
     "data": {
      "text/plain": [
       "[[[8, [7, 6], 5], [4, 3], 2], 1]"
      ]
     },
     "execution_count": 65,
     "metadata": {},
     "output_type": "execute_result"
    }
   ],
   "source": [
    "deepReverse([1, [2, [3, 4], [5, [6, 7], 8]]])"
   ]
  },
  {
   "cell_type": "code",
   "execution_count": null,
   "id": "ae912d97",
   "metadata": {},
   "outputs": [],
   "source": []
  }
 ],
 "metadata": {
  "kernelspec": {
   "display_name": "Python 3",
   "language": "python",
   "name": "python3"
  },
  "language_info": {
   "codemirror_mode": {
    "name": "ipython",
    "version": 3
   },
   "file_extension": ".py",
   "mimetype": "text/x-python",
   "name": "python",
   "nbconvert_exporter": "python",
   "pygments_lexer": "ipython3",
   "version": "3.8.8"
  }
 },
 "nbformat": 4,
 "nbformat_minor": 5
}
